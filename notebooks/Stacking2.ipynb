{
 "cells": [
  {
   "cell_type": "code",
   "execution_count": 3,
   "id": "5990e589",
   "metadata": {},
   "outputs": [],
   "source": [
    "import numpy as np\n",
    "import pandas as pd\n",
    "from sklearn.model_selection import train_test_split, cross_val_score\n",
    "from sklearn.preprocessing import StandardScaler\n",
    "from sklearn.linear_model import ElasticNet, RidgeCV\n",
    "from sklearn.svm import SVR\n",
    "from sklearn.neighbors import KNeighborsRegressor\n",
    "from sklearn.ensemble import GradientBoostingRegressor, StackingRegressor\n",
    "from sklearn.pipeline import make_pipeline\n",
    "from sklearn.metrics import mean_squared_error, r2_score, mean_absolute_error\n",
    "from xgboost import XGBRegressor"
   ]
  },
  {
   "cell_type": "code",
   "execution_count": 4,
   "id": "e9c53cd3",
   "metadata": {},
   "outputs": [],
   "source": [
    "df = pd.read_csv(r\"D:\\D-drive\\Coding\\Major-Project\\new_\\data\\preprocessed_data.csv\")"
   ]
  },
  {
   "cell_type": "code",
   "execution_count": 5,
   "id": "cd41b37b",
   "metadata": {},
   "outputs": [],
   "source": [
    "X = df[[\"I\",\"P\",\"Q\",\"T\",\"Hydrogen\",\"Oxygen\",\"RH anode\",\"Rh Cathode\"]].values\n",
    "y = df[\"V\"].values"
   ]
  },
  {
   "cell_type": "code",
   "execution_count": 6,
   "id": "21d1ccb4",
   "metadata": {},
   "outputs": [],
   "source": [
    "X_train, X_test, y_train, y_test = train_test_split(X, y, test_size=0.2, random_state=42)"
   ]
  },
  {
   "cell_type": "code",
   "execution_count": 7,
   "id": "870b0305",
   "metadata": {},
   "outputs": [],
   "source": [
    "base_learners_baseline = [\n",
    "    (\"enet\", make_pipeline(StandardScaler(), ElasticNet(max_iter=5000))),\n",
    "    (\"svr\",  make_pipeline(StandardScaler(), SVR(kernel=\"rbf\", C=10, epsilon=0.1))),\n",
    "    (\"knn\",  make_pipeline(StandardScaler(), KNeighborsRegressor(n_neighbors=7))),\n",
    "    (\"gbr\",  GradientBoostingRegressor(n_estimators=300, learning_rate=0.05, max_depth=3, random_state=42)),\n",
    "]"
   ]
  },
  {
   "cell_type": "code",
   "execution_count": 8,
   "id": "db5c3831",
   "metadata": {},
   "outputs": [],
   "source": [
    "meta = RidgeCV(alphas=np.logspace(-4, 4, 25))"
   ]
  },
  {
   "cell_type": "code",
   "execution_count": 9,
   "id": "93218e24",
   "metadata": {},
   "outputs": [],
   "source": [
    "stack_baseline = StackingRegressor(\n",
    "    estimators=base_learners_baseline,\n",
    "    final_estimator=meta,\n",
    "    cv=5,\n",
    "    passthrough=False\n",
    ")"
   ]
  },
  {
   "cell_type": "code",
   "execution_count": 10,
   "id": "ae5f5685",
   "metadata": {},
   "outputs": [],
   "source": [
    "stack_baseline.fit(X_train, y_train)\n",
    "y_pred_base = stack_baseline.predict(X_test)"
   ]
  },
  {
   "cell_type": "code",
   "execution_count": 11,
   "id": "55f4d2e0",
   "metadata": {},
   "outputs": [],
   "source": [
    "rmse_base = np.sqrt(mean_squared_error(y_test, y_pred_base))\n",
    "r2_base = r2_score(y_test, y_pred_base)\n",
    "mae_base = mean_absolute_error(y_test, y_pred_base)"
   ]
  },
  {
   "cell_type": "code",
   "execution_count": 12,
   "id": "d491d6b4",
   "metadata": {},
   "outputs": [
    {
     "name": "stdout",
     "output_type": "stream",
     "text": [
      "\n",
      "===== Baseline Stack =====\n",
      "RMSE: 0.9311\n",
      "R²:   0.9998\n",
      "MAE:  0.5014\n"
     ]
    }
   ],
   "source": [
    "print(\"\\n===== Baseline Stack =====\")\n",
    "print(f\"RMSE: {rmse_base:.4f}\")\n",
    "print(f\"R²:   {r2_base:.4f}\")\n",
    "print(f\"MAE:  {mae_base:.4f}\")"
   ]
  },
  {
   "cell_type": "code",
   "execution_count": 13,
   "id": "282a00c2",
   "metadata": {},
   "outputs": [],
   "source": [
    "# Improved Stack (with XGB + passthrough)\n",
    "\n",
    "base_learners_improved = [\n",
    "    (\"enet\", make_pipeline(StandardScaler(), ElasticNet(max_iter=5000))),\n",
    "    (\"svr\",  make_pipeline(StandardScaler(), SVR(kernel=\"rbf\", C=10, epsilon=0.1))),\n",
    "    (\"knn\",  make_pipeline(StandardScaler(), KNeighborsRegressor(n_neighbors=7))),\n",
    "    (\"xgb\",  XGBRegressor(n_estimators=300, learning_rate=0.05, max_depth=3,\n",
    "                           random_state=42, verbosity=0)),\n",
    "]"
   ]
  },
  {
   "cell_type": "code",
   "execution_count": 14,
   "id": "ccc31767",
   "metadata": {},
   "outputs": [],
   "source": [
    "stack_improved = StackingRegressor(\n",
    "    estimators=base_learners_improved,\n",
    "    final_estimator=meta,\n",
    "    cv=5,\n",
    "    passthrough=True   # Let meta-learner see original features + preds\n",
    ")"
   ]
  },
  {
   "cell_type": "code",
   "execution_count": 15,
   "id": "b2473f45",
   "metadata": {},
   "outputs": [],
   "source": [
    "stack_improved.fit(X_train, y_train)\n",
    "y_pred_imp = stack_improved.predict(X_test)"
   ]
  },
  {
   "cell_type": "code",
   "execution_count": 16,
   "id": "1a51ca2b",
   "metadata": {},
   "outputs": [],
   "source": [
    "rmse_imp = np.sqrt(mean_squared_error(y_test, y_pred_imp))\n",
    "r2_imp = r2_score(y_test, y_pred_imp)\n",
    "mae_imp = mean_absolute_error(y_test, y_pred_imp)"
   ]
  },
  {
   "cell_type": "code",
   "execution_count": 17,
   "id": "05fcded0",
   "metadata": {},
   "outputs": [
    {
     "name": "stdout",
     "output_type": "stream",
     "text": [
      "\n",
      "===== Improved Stack (XGB + passthrough) =====\n",
      "RMSE: 1.0656\n",
      "R²:   0.9997\n",
      "MAE:  0.6044\n"
     ]
    }
   ],
   "source": [
    "print(\"\\n===== Improved Stack (XGB + passthrough) =====\")\n",
    "print(f\"RMSE: {rmse_imp:.4f}\")\n",
    "print(f\"R²:   {r2_imp:.4f}\")\n",
    "print(f\"MAE:  {mae_imp:.4f}\")"
   ]
  },
  {
   "cell_type": "code",
   "execution_count": 18,
   "id": "c29d5321",
   "metadata": {},
   "outputs": [
    {
     "name": "stdout",
     "output_type": "stream",
     "text": [
      "\n",
      "===== Cross-Validation RMSE =====\n",
      "Baseline Stack CV RMSE: 21.1786\n",
      "Improved Stack CV RMSE: 49.1663\n"
     ]
    }
   ],
   "source": [
    "# Extra: Cross-validated RMSE\n",
    "\n",
    "scores_base = cross_val_score(stack_baseline, X, y, cv=5,\n",
    "                              scoring=\"neg_root_mean_squared_error\")\n",
    "scores_imp = cross_val_score(stack_improved, X, y, cv=5,\n",
    "                             scoring=\"neg_root_mean_squared_error\")\n",
    "\n",
    "print(\"\\n===== Cross-Validation RMSE =====\")\n",
    "print(f\"Baseline Stack CV RMSE: {-scores_base.mean():.4f}\")\n",
    "print(f\"Improved Stack CV RMSE: {-scores_imp.mean():.4f}\")\n"
   ]
  },
  {
   "cell_type": "code",
   "execution_count": null,
   "id": "321d7a29",
   "metadata": {},
   "outputs": [],
   "source": []
  }
 ],
 "metadata": {
  "kernelspec": {
   "display_name": "myenv",
   "language": "python",
   "name": "python3"
  },
  "language_info": {
   "codemirror_mode": {
    "name": "ipython",
    "version": 3
   },
   "file_extension": ".py",
   "mimetype": "text/x-python",
   "name": "python",
   "nbconvert_exporter": "python",
   "pygments_lexer": "ipython3",
   "version": "3.12.9"
  }
 },
 "nbformat": 4,
 "nbformat_minor": 5
}
