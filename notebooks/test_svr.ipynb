{
 "cells": [
  {
   "cell_type": "code",
   "execution_count": 2,
   "id": "5b9913e6",
   "metadata": {},
   "outputs": [
    {
     "name": "stdout",
     "output_type": "stream",
     "text": [
      "Predicted Voltage: 490.1027 V\n"
     ]
    },
    {
     "name": "stderr",
     "output_type": "stream",
     "text": [
      "d:\\Coding\\ML-lab\\labenv\\Lib\\site-packages\\sklearn\\utils\\validation.py:2739: UserWarning: X does not have valid feature names, but StandardScaler was fitted with feature names\n",
      "  warnings.warn(\n"
     ]
    }
   ],
   "source": [
    "import numpy as np\n",
    "import joblib\n",
    "\n",
    "# Load the saved pipeline model (includes StandardScaler + SVR)\n",
    "model = joblib.load(r'D:\\Coding\\Major-Project\\new_\\models\\svr_pre-processed_model.pkl')\n",
    "\n",
    "# New input: [Current, Temperature, Hydrogen, Oxygen]\n",
    "new_data = np.array([[-0.8867867547364153, -1.26144424716395, -1.8729897912880753, -1.2279915247784425]])\n",
    "\n",
    "# Direct prediction — scaling is handled inside the pipeline\n",
    "predicted_voltage = model.predict(new_data)\n",
    "\n",
    "print(f\"Predicted Voltage: {predicted_voltage[0]:.4f} V\")\n"
   ]
  },
  {
   "cell_type": "code",
   "execution_count": null,
   "id": "f4bc109a",
   "metadata": {},
   "outputs": [],
   "source": []
  }
 ],
 "metadata": {
  "kernelspec": {
   "display_name": "Python 3",
   "language": "python",
   "name": "python3"
  },
  "language_info": {
   "codemirror_mode": {
    "name": "ipython",
    "version": 3
   },
   "file_extension": ".py",
   "mimetype": "text/x-python",
   "name": "python",
   "nbconvert_exporter": "python",
   "pygments_lexer": "ipython3",
   "version": "3.12.8"
  }
 },
 "nbformat": 4,
 "nbformat_minor": 5
}
