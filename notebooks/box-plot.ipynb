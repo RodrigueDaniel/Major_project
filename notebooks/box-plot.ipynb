{
 "cells": [
  {
   "cell_type": "code",
   "execution_count": 1,
   "id": "60c68e4b",
   "metadata": {},
   "outputs": [],
   "source": [
    "import pandas as pd\n",
    "import matplotlib.pyplot as plt\n",
    "import seaborn as sns"
   ]
  },
  {
   "cell_type": "code",
   "execution_count": null,
   "id": "17905d1e",
   "metadata": {},
   "outputs": [
    {
     "data": {
      "text/html": [
       "<div>\n",
       "<style scoped>\n",
       "    .dataframe tbody tr th:only-of-type {\n",
       "        vertical-align: middle;\n",
       "    }\n",
       "\n",
       "    .dataframe tbody tr th {\n",
       "        vertical-align: top;\n",
       "    }\n",
       "\n",
       "    .dataframe thead th {\n",
       "        text-align: right;\n",
       "    }\n",
       "</style>\n",
       "<table border=\"1\" class=\"dataframe\">\n",
       "  <thead>\n",
       "    <tr style=\"text-align: right;\">\n",
       "      <th></th>\n",
       "      <th>I</th>\n",
       "      <th>V</th>\n",
       "      <th>P</th>\n",
       "      <th>Q</th>\n",
       "      <th>T</th>\n",
       "      <th>Hydrogen</th>\n",
       "      <th>Oxygen</th>\n",
       "      <th>RH anode</th>\n",
       "      <th>Rh Cathode</th>\n",
       "    </tr>\n",
       "  </thead>\n",
       "  <tbody>\n",
       "    <tr>\n",
       "      <th>0</th>\n",
       "      <td>0.0</td>\n",
       "      <td>491.114619</td>\n",
       "      <td>0.0</td>\n",
       "      <td>8.580000e-35</td>\n",
       "      <td>20.0</td>\n",
       "      <td>8.410000e-38</td>\n",
       "      <td>0.000000e+00</td>\n",
       "      <td>0.000000e+00</td>\n",
       "      <td>0.5</td>\n",
       "    </tr>\n",
       "    <tr>\n",
       "      <th>1</th>\n",
       "      <td>0.0</td>\n",
       "      <td>491.114619</td>\n",
       "      <td>0.0</td>\n",
       "      <td>-3.880000e-12</td>\n",
       "      <td>20.0</td>\n",
       "      <td>4.970000e-07</td>\n",
       "      <td>4.110000e-09</td>\n",
       "      <td>2.680000e-14</td>\n",
       "      <td>0.5</td>\n",
       "    </tr>\n",
       "    <tr>\n",
       "      <th>2</th>\n",
       "      <td>0.0</td>\n",
       "      <td>491.114619</td>\n",
       "      <td>0.0</td>\n",
       "      <td>-7.750000e-12</td>\n",
       "      <td>20.0</td>\n",
       "      <td>1.140000e-06</td>\n",
       "      <td>1.130000e-08</td>\n",
       "      <td>8.050000e-14</td>\n",
       "      <td>0.5</td>\n",
       "    </tr>\n",
       "    <tr>\n",
       "      <th>3</th>\n",
       "      <td>0.0</td>\n",
       "      <td>491.114619</td>\n",
       "      <td>0.0</td>\n",
       "      <td>-3.050000e-11</td>\n",
       "      <td>20.0</td>\n",
       "      <td>5.330000e-06</td>\n",
       "      <td>8.890000e-08</td>\n",
       "      <td>1.350000e-12</td>\n",
       "      <td>0.5</td>\n",
       "    </tr>\n",
       "    <tr>\n",
       "      <th>4</th>\n",
       "      <td>0.0</td>\n",
       "      <td>491.114619</td>\n",
       "      <td>0.0</td>\n",
       "      <td>-6.400000e-11</td>\n",
       "      <td>20.0</td>\n",
       "      <td>1.160000e-05</td>\n",
       "      <td>2.240000e-07</td>\n",
       "      <td>5.360000e-12</td>\n",
       "      <td>0.5</td>\n",
       "    </tr>\n",
       "  </tbody>\n",
       "</table>\n",
       "</div>"
      ],
      "text/plain": [
       "     I           V    P             Q     T      Hydrogen        Oxygen  \\\n",
       "0  0.0  491.114619  0.0  8.580000e-35  20.0  8.410000e-38  0.000000e+00   \n",
       "1  0.0  491.114619  0.0 -3.880000e-12  20.0  4.970000e-07  4.110000e-09   \n",
       "2  0.0  491.114619  0.0 -7.750000e-12  20.0  1.140000e-06  1.130000e-08   \n",
       "3  0.0  491.114619  0.0 -3.050000e-11  20.0  5.330000e-06  8.890000e-08   \n",
       "4  0.0  491.114619  0.0 -6.400000e-11  20.0  1.160000e-05  2.240000e-07   \n",
       "\n",
       "       RH anode  Rh Cathode  \n",
       "0  0.000000e+00         0.5  \n",
       "1  2.680000e-14         0.5  \n",
       "2  8.050000e-14         0.5  \n",
       "3  1.350000e-12         0.5  \n",
       "4  5.360000e-12         0.5  "
      ]
     },
     "execution_count": 2,
     "metadata": {},
     "output_type": "execute_result"
    }
   ],
   "source": [
    "# === Load Data ===\n",
    "df = pd.read_csv(r'D:\\Coding\\Major-Project\\new_\\data\\PEMfuel cell.csv')\n",
    "\n",
    "df.head()"
   ]
  },
  {
   "cell_type": "code",
   "execution_count": 3,
   "id": "aafd9d5c",
   "metadata": {},
   "outputs": [],
   "source": [
    "# Choose the columns you want to check for outliers\n",
    "columns_to_check = ['I', 'T', 'Hydrogen', 'Oxygen', 'V']  "
   ]
  },
  {
   "cell_type": "code",
   "execution_count": 4,
   "id": "f307ee29",
   "metadata": {},
   "outputs": [
    {
     "data": {
      "image/png": "[encoded data removed]",
      "text/plain": [
       "<Figure size 1200x600 with 1 Axes>"
      ]
     },
     "metadata": {},
     "output_type": "display_data"
    }
   ],
   "source": [
    "# Create boxplots\n",
    "plt.figure(figsize=(12, 6))\n",
    "df[columns_to_check].boxplot()\n",
    "plt.title(\"Boxplot for Detecting Outliers\")\n",
    "plt.ylabel(\"Value Range\")\n",
    "plt.xticks(rotation=45)\n",
    "plt.grid(True)\n",
    "plt.tight_layout()\n",
    "plt.show()"
   ]
  },
  {
   "cell_type": "markdown",
   "id": "a4c694c3",
   "metadata": {},
   "source": [
    "### 1. I (Current)\n",
    "- Lots of outliers on the upper side, extending close to 500 A.\n",
    "- Bulk of the data is concentrated between 0 and ~100 A.\n",
    "- Median lies around 40–50 A.\n",
    "- Wide spread and heavy outliers indicate high variance.\n",
    "- Possible noisy measurements due to operational variability.\n",
    "\n",
    "---\n",
    "\n",
    "### 2. T (Temperature)\n",
    "- No extreme outliers observed.\n",
    "- Longer upper whisker suggests a skew toward higher temperatures.\n",
    "- Temperature values generally cluster between 20–80°C.\n",
    "- Median is around 60°C.\n",
    "- Fairly normal distribution with moderate variation.\n",
    "\n",
    "---\n",
    "\n",
    "### 3. Hydrogen\n",
    "- Tight distribution with no significant outliers.\n",
    "- Data values are close to zero across all samples.\n",
    "- Highly consistent hydrogen flow/input.\n",
    "- Median and IQR are very narrow.\n",
    "- Indicates low variability and regulated conditions.\n",
    "\n",
    "---\n",
    "\n",
    "### 4. Oxygen\n",
    "- Follows the same pattern as Hydrogen.\n",
    "- Virtually no outliers present.\n",
    "- Extremely narrow interquartile range (IQR).\n",
    "- Oxygen input remains stable and consistent.\n",
    "- Reflects controlled system operation.\n",
    "\n",
    "---\n",
    "\n",
    "### 5. V (Voltage)\n",
    "- Many outliers on both lower (<300 V) and upper ends (>480 V).\n",
    "- Main data range lies between 300–450 V.\n",
    "- Median voltage is around 425 V.\n",
    "- Indicates abnormal operating conditions or rare cases.\n",
    "- Voltage variability likely driven by load or system stress.\n"
   ]
  },
  {
   "cell_type": "code",
   "execution_count": null,
   "id": "1e973e55",
   "metadata": {},
   "outputs": [],
   "source": []
  }
 ],
 "metadata": {
  "kernelspec": {
   "display_name": "Python 3",
   "language": "python",
   "name": "python3"
  },
  "language_info": {
   "codemirror_mode": {
    "name": "ipython",
    "version": 3
   },
   "file_extension": ".py",
   "mimetype": "text/x-python",
   "name": "python",
   "nbconvert_exporter": "python",
   "pygments_lexer": "ipython3",
   "version": "3.12.8"
  }
 },
 "nbformat": 4,
 "nbformat_minor": 5
}
